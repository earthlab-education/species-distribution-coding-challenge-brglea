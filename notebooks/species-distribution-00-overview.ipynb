{
  "cells": [
    {
      "cell_type": "markdown",
      "id": "b7e7dc48-3ce6-452d-bd75-09fca2f00c2b",
      "metadata": {},
      "source": [
        "# \n",
        "\n",
        "<link rel=\"stylesheet\" type=\"text/css\" href=\"./assets/styles.css\"><div class=\"callout callout-style-default callout-titled callout-response\"><div class=\"callout-header\"><div class=\"callout-icon-container\"><i class=\"callout-icon\"></i></div><div class=\"callout-title-container flex-fill\">What can we learn from migration patterns?</div></div><div class=\"callout-body-container callout-body\"><p>In the cell below, reflect on what you know about migration. You\n",
        "could consider:</p>\n",
        "<ol type=\"1\">\n",
        "<li>What are some reasons that animals migrate?</li>\n",
        "<li>How might climate change affect animal migrations?</li>\n",
        "<li>Do you notice any animal migrations in your area?</li>\n",
        "</ol></div></div>"
      ]
    },
    {
      "cell_type": "markdown",
      "id": "09ea9f1d-2434-41ec-9d7b-65eb3153d6d6",
      "metadata": {},
      "source": [
        "## Migration Response\n",
        "\n",
        "Animals may migrate for weather reasons-they may need to be in a certain temp \n",
        "range and when it gets colder or hotter or certain weather events happen may\n",
        "cause them to migrate seasonally. Animals may also migrate for food reasons-\n",
        "certain prey or food sources may only be avialble in certain areas at different\n",
        "times of year. \n",
        "\n",
        "Going off of these two generalizations, climate change might affect animal \n",
        "migrations by chaning when animals migrate. For example, if its becoming colder\n",
        "or warmer sooner or longer, they they may stay or migrate to a certain location\n",
        "for a longer or shorter period depending on their needs. Climate change may \n",
        "also affect where animals migrate. With changes in percipitation increasing\n",
        "flooding, or weather shifts in warmer temps, making things drier incrasing fire\n",
        "risks or contributing to fires, would affect the possible prey or food \n",
        "situation and the living situation itself that that animals needs.\n",
        "\n",
        "The only migrations I notice in my area, which is actually my aunts house is \n",
        "the only place I really see animals is the deer. In the summer I see the baby\n",
        "deer and they are more frequent seen grazing going into the fall. While they\n",
        "are seen in the winter sometimes, it is far less. "
      ]
    }
  ],
  "metadata": {
    "kernelspec": {
      "display_name": "Python 3",
      "language": "python",
      "name": "python3"
    }
  },
  "nbformat": 4,
  "nbformat_minor": 5
}
