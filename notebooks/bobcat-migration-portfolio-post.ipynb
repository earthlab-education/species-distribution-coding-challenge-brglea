{
 "cells": [
  {
   "cell_type": "markdown",
   "metadata": {},
   "source": [
    "# Bobcat Migration\n",
    "\n",
    "## Species Description\n",
    "\n",
    "\n",
    "Bobcats are part of the larger genus of Lynx. There are 4 extant species\n",
    "of Lynx, one of which is the bobcat. The bobcat is often confused with the\n",
    "Lynx, but the key difference is that Lynx are larger and their tails are \n",
    "all black versus the Bobcat which have white tails with a black strip.\n",
    "\n",
    "I chose the bobcat *'lynx rufus'* to look at their migration because I \n",
    "have a sister who works at the Sonoma County Wildlife Rescue in \n",
    "California. She does the [rescue and release](https://scwildliferescue.org/rescue-rehab-release) \n",
    "part of the porgram and they frequently rescue injured bobcats, or get in baby \n",
    "bobcats that were abandoned in some way that they care for until they \n",
    "are old enough to be released. I however, am in Colorado and I have seen\n",
    "bobcats in the wilderness. This made me curious about their overall migration.\n",
    "\n",
    "This species's migration ranges between Mexico and Canada, with the \n",
    "majority of the bobcats being found in the U.S. They are not a threatened\n",
    "species, but do suffer from habitat loss. They \"live in a wide variety of\n",
    "habitats, including boreal coniferous and mixed forests in the north, \n",
    "bottomland hardwood forests and coastal swamps in the southeast, and \n",
    "desert and scrublands in the southwest\"(The Smithsonian National Zoo &\n",
    "Conservation Biology Institute). Another important note that will\n",
    "inform the later interpretation is that bobcats do not hibernate and are\n",
    "most active during the winter, particularly January and February which \n",
    "is their mating season (The Wildlife Rescue Legaue).\n",
    "\n",
    "If you are insterested in learning more about bobcats\n",
    "please visit [The Smithsonian's National Zoo & Conservation Biology \n",
    "Institute](https://nationalzoo.si.edu/animals/bobcat) and [The Wildlife\n",
    "Rescue League](https://www.wildliferescueleague.org/animals/the-bobcat-master-of-the-art-of-concealment/#:~:text=Bobcats%20do%20not%20migrate%2C%20although,large%20as%20six%20square%20miles) .\n"
   ]
  },
  {
   "cell_type": "markdown",
   "metadata": {},
   "source": [
    "## Data Description\n",
    "There were two sources of data used for this project - *Ecoregions* and *GBIF*\n",
    "data. Ecoregions data is available via a shapefile which can be downloaded\n",
    "[here](https://www.geographyrealm.com/terrestrial-ecoregions-gis-data/) .\n",
    "The GBIF data is for species occurances. Together, the two can convey the \n",
    "migration spatially and over time of a certain species (if that species' data\n",
    "is available from GBIF).\n",
    "\n",
    "* #### Ecoregion Data\n",
    "Ecoregions \"are areas that are geographically and ecologically similar\n",
    "and experience similar levels of solar radiation and precipitation\". \n",
    "There are 846 Ecoregions globally, but most species would be in a small\n",
    "portion of those edoregions depending on their habitats and migration patterns.\n",
    "The Ecoregion shapefile used is an updated version from 2017 that was developed\n",
    "by experts.\n",
    "\n",
    "\n",
    "**Ecoregion Citation:** \n",
    "\n",
    "Terauds, Aleks, et al. “Announcing the Release of Ecoregion Snapshots.” \n",
    "    >One Earth, One Earth, 31 May 2024, \n",
    "    >www.oneearth.org/announcing-the-release-of-ecoregion-snapshots/. \n",
    "\n",
    "* #### GBIF Occurences Data\n",
    "\n",
    "GBIF stands for [Global Biodiversity Information Facility](https://www.gbif.org/what-is-gbif), \n",
    "it \"is an international network and data infrastructure funded by the world's \n",
    "governments and aimed at providing anyone, anywhere, open access to data \n",
    "about all types of life on Earth\"(Data Info citation below). This network\n",
    "draws many data sources together including museum specimans, DNA barcodes,\n",
    "and crowdsourced photos from smartphones used by non-experts and experts.\n",
    "GBIF uses data standards to index all these species records.\n",
    "\n",
    "The data can vary:\n",
    "1. There may be more occurances recorded in National Parks \n",
    "compared to the Arctic, even if the species may similarly present\n",
    "in different regions. This is because there are fewer people to observe in \n",
    "the arctic. \n",
    "2. There may be greater or fewer occurances depending on time of year \n",
    "that people go outside, how accesible a region is during different times\n",
    "of year, etc.\n",
    "3. There may be variation depending on how many people want to provide/upload\n",
    "data and that also depends on what that person knows or likes more - one\n",
    "may be more likely to upload species they like or know.\n",
    "\n",
    "Because this data laregly comes from crowdsourcing and the data will need to be \n",
    "normalized which will be further explained in the Methods Description.\n",
    "\n",
    "**GBIF Citation:**\n",
    "\n",
    "* Data Info:\n",
    "\n",
    "    https://www.gbif.org/what-is-gbif\n",
    "\n",
    "\n",
    "* Data:\n",
    " \n",
    "    GBIF.org (12 October 2024) GBIF Occurrence Download\n",
    "    https://doi.org/10.15468/dl.sye4x3\n",
    "\n",
    "\n"
   ]
  },
  {
   "cell_type": "markdown",
   "metadata": {},
   "source": [
    "## Methods Description \n",
    "\n",
    "Because the GBIF data can vary by space and time, the data needs to be \n",
    "normalized to account for these issues that would otherwise skew the plot\n",
    "(ex. make it look like there are more observations in a certain area or time\n",
    "of year, when that wouldn't be an accurate reflection of reality).\n",
    "The data was normalized by ecoregion samples, by month samples, and by \n",
    "area. This way the normalization is over space and time (This should help\n",
    "control for the number of active observers in each location and time of \n",
    "year.)\n",
    "\n",
    "1. Before normalization can happen, the GBIF data was converted into a \n",
    "GeoDataFrame using latitude and longitude geometry.\n",
    "\n",
    "2. Next, a spatial join was performed with parameters (how= 'inner', \n",
    "predicate= 'contains'). This identifies the Ecoregion for each observation.\n",
    "\n",
    "3. Next, observations were grouped by Ecoregion, selecting only month/ecosystem\n",
    "combinations that have more than one occurance recorded (since a single\n",
    "occurence could be an error). The .groupby() and .mean() methods were used\n",
    "to compute the mean occurences by ecoregion and by month.\n",
    "\n",
    "4. Lastly, divide occurrences by the mean occurrences by month AND the mean\n",
    "occurrences by ecoregion.\n",
    "\n",
    "This normalizes the data to be able to have a more accurate plot."
   ]
  },
  {
   "cell_type": "markdown",
   "metadata": {},
   "source": [
    "## Access locations and times of Bobcat encounters\n",
    "\n",
    "I used a database called the [Global\n",
    "Biodiversity Information Facility (GBIF)](https://www.gbif.org/). GBIF\n",
    "is compiled from species observation data all over the world, and\n",
    "includes everything from museum specimens to photos taken by citizen\n",
    "scientists in their backyards.\n",
    "\n",
    "Before you get started, go to the <a\n",
    "href=\"https://www.gbif.org/occurrence/search\">GBIF occurrences search\n",
    "page</a> and explore the data."
   ]
  },
  {
   "cell_type": "markdown",
   "metadata": {},
   "source": [
    "### Set up code to prepare for download\n",
    "\n",
    "I will be getting data from a source called [GBIF (Global Biodiversity\n",
    "Information Facility)](https://www.gbif.org/). I need a package called\n",
    "`pygbif` to access the data, which may not be included in my\n",
    "environment. Install it by running the cell below:"
   ]
  },
  {
   "cell_type": "code",
   "execution_count": null,
   "metadata": {},
   "outputs": [],
   "source": [
    "%%bash\n",
    "pip install pygbif"
   ]
  },
  {
   "cell_type": "markdown",
   "metadata": {},
   "source": [
    "### Import Packages\n",
    "\n",
    "Import packages that will help with\n",
    "1. reproducible file paths\n",
    "2. tabular data"
   ]
  },
  {
   "cell_type": "code",
   "execution_count": 2,
   "metadata": {},
   "outputs": [],
   "source": [
    "import os\n",
    "import pathlib\n",
    "import time\n",
    "import zipfile\n",
    "from getpass import getpass\n",
    "from glob import glob\n",
    "\n",
    "import pandas as pd\n",
    "import pygbif.occurrences as occ\n",
    "import pygbif.species as species"
   ]
  },
  {
   "cell_type": "code",
   "execution_count": 3,
   "metadata": {},
   "outputs": [],
   "source": [
    "# Create data directory in the home folder\n",
    "data_dir_bobcat = os.path.join(\n",
    "    # Home directory\n",
    "    pathlib.Path.home(),\n",
    "    # Earth analytics data directory\n",
    "    'earth-analytics',\n",
    "    'data',\n",
    "    # Project directory\n",
    "    'species_distribution_bobcat',\n",
    ")\n",
    "os.makedirs(data_dir_bobcat, exist_ok=True)\n",
    "\n",
    "# Define the directory name for GBIF data\n",
    "gbif_dir_bobcat = os.path.join(data_dir_bobcat, 'gbif_bobcat')"
   ]
  },
  {
   "cell_type": "markdown",
   "metadata": {},
   "source": [
    "### Check the location for the data_dir_bobcat"
   ]
  },
  {
   "cell_type": "code",
   "execution_count": null,
   "metadata": {},
   "outputs": [],
   "source": [
    "data_dir_bobcat"
   ]
  },
  {
   "cell_type": "markdown",
   "metadata": {},
   "source": [
    "### Register and log in to GBIF\n",
    "\n",
    "I need a [GBIF account](https://www.gbif.org/) to complete this\n",
    "challenge. Then, run the following code to save my credentials on your\n",
    "computer.\n",
    "\n",
    "> **Warning**\n",
    ">\n",
    "> My email address **must** match the email I used to sign up for\n",
    "> GBIF!\n",
    "\n",
    "> **Tip**\n",
    ">\n",
    "> If I accidentally enter your credentials wrong, I can set\n",
    "> `reset_credentials=True` instead of `reset_credentials=False`."
   ]
  },
  {
   "cell_type": "code",
   "execution_count": 5,
   "metadata": {},
   "outputs": [],
   "source": [
    "reset_credentials = False\n",
    "# GBIF needs a username, password, and email\n",
    "credentials = dict(\n",
    "    GBIF_USER=(input, 'GBIF username:'),\n",
    "    GBIF_PWD=(getpass, 'GBIF password'),\n",
    "    GBIF_EMAIL=(input, 'GBIF email')\n",
    ")\n",
    "for env_variable, (prompt_func, prompt_text) in credentials.items():\n",
    "    # Delete credential from environment if requested\n",
    "    if reset_credentials and (env_variable in os.environ):\n",
    "        os.environ.pop(env_variable)\n",
    "    # Ask for credential and save to environment\n",
    "    if not env_variable in os.environ:\n",
    "        os.environ[env_variable] = prompt_func(prompt_text)"
   ]
  },
  {
   "cell_type": "markdown",
   "metadata": {},
   "source": [
    "### Check and make sure you username is correct \n",
    "\n",
    "Also double check that the password has been saved"
   ]
  },
  {
   "cell_type": "code",
   "execution_count": null,
   "metadata": {},
   "outputs": [],
   "source": [
    "os.environ ['GBIF_USER']"
   ]
  },
  {
   "cell_type": "code",
   "execution_count": null,
   "metadata": {},
   "outputs": [],
   "source": [
    "!echo $GBIF_USER"
   ]
  },
  {
   "cell_type": "code",
   "execution_count": null,
   "metadata": {},
   "outputs": [],
   "source": [
    "'GBIF_PWD' in os.environ"
   ]
  },
  {
   "cell_type": "markdown",
   "metadata": {},
   "source": [
    "### Get the species key\n",
    "\n",
    "1.  Replace the `species_name` with the name of the species you want\n",
    " to look up\n",
    "2.  Run the code to get the species key"
   ]
  },
  {
   "cell_type": "code",
   "execution_count": null,
   "metadata": {},
   "outputs": [],
   "source": [
    "# Query species\n",
    "species_info = species.name_lookup('lynx rufus', rank='SPECIES')\n",
    "\n",
    "# Get the first result\n",
    "first_result = species_info['results'][0]\n",
    "\n",
    "# Get the species key (nubKey)\n",
    "species_key = first_result['nubKey']\n",
    "\n",
    "# Check the result\n",
    "first_result['species'], species_key"
   ]
  },
  {
   "cell_type": "markdown",
   "metadata": {},
   "source": [
    "### Download data from GBIF\n",
    "\n",
    "Submit a request to GBIF\n",
    "\n",
    "1.  Replace `csv_file_pattern` with a string that will match **any**\n",
    "    `.csv` file when used in the `glob` function. HINT: the character\n",
    "    `*` represents any number of any values except the file separator\n",
    "    (e.g. `/`)\n",
    "\n",
    "2.  Add parameters to the GBIF download function, `occ.download()` to\n",
    "    limit your query to:\n",
    "\n",
    "    -   observations\n",
    "    -   from 2023\n",
    "    -   with spatial coordinates.\n",
    "\n",
    "3.  Then, run the download. **This can take a few minutes**. :::"
   ]
  },
  {
   "cell_type": "code",
   "execution_count": 10,
   "metadata": {},
   "outputs": [],
   "source": [
    "# Only download once\n",
    "gbif_pattern = os.path.join(gbif_dir_bobcat, '*.csv')\n",
    "if not glob(gbif_pattern):\n",
    "    # Only submit one request\n",
    "    if not 'GBIF_DOWNLOAD_KEY' in os.environ:\n",
    "        # Submit query to GBIF\n",
    "        gbif_query = occ.download([\n",
    "            \"speciesKey = 2435246\",\n",
    "            \"hasCoordinate = True\",\n",
    "            \"year = 2023\",\n",
    "        ])\n",
    "        os.environ['GBIF_DOWNLOAD_KEY'] = gbif_query[0]\n",
    "\n",
    "    # Wait for the download to build\n",
    "    download_key = os.environ['GBIF_DOWNLOAD_KEY']\n",
    "    wait = occ.download_meta(download_key)['status']\n",
    "    while not wait=='SUCCEEDED':\n",
    "        wait = occ.download_meta(download_key)['status']\n",
    "        time.sleep(5)\n",
    "\n",
    "    # Download GBIF data\n",
    "    download_info = occ.download_get(\n",
    "        os.environ['GBIF_DOWNLOAD_KEY'], \n",
    "        path=data_dir_bobcat)\n",
    "\n",
    "    # Unzip GBIF data\n",
    "    with zipfile.ZipFile(download_info['path']) as download_zip:\n",
    "        download_zip.extractall(path=gbif_dir_bobcat)\n",
    "\n",
    "# Find the extracted .csv file path (take the first result)\n",
    "gbif_path = glob(gbif_pattern)[0]"
   ]
  },
  {
   "cell_type": "markdown",
   "metadata": {},
   "source": [
    "### Check the gbif_path"
   ]
  },
  {
   "cell_type": "code",
   "execution_count": null,
   "metadata": {},
   "outputs": [],
   "source": [
    "gbif_path"
   ]
  },
  {
   "cell_type": "markdown",
   "metadata": {},
   "source": [
    "### Load the GBIF data into Python\n",
    "\n",
    "Load GBIF data\n",
    "\n",
    "1. Look at the beginning of the file I downloaded using the code\n",
    "below. The delimiter is a tab.\n",
    "2. Run the following code cell. \n",
    "3. Uncomment and modify the parameters of <code>pd.read_csv()</code>\n",
    "below until my data loads successfully and I have only the columns\n",
    "I want.\n",
    "\n",
    "I can use the following code to look at the beginning of my file:"
   ]
  },
  {
   "cell_type": "code",
   "execution_count": null,
   "metadata": {},
   "outputs": [],
   "source": [
    "!head -n 2 $gbif_path "
   ]
  },
  {
   "cell_type": "code",
   "execution_count": null,
   "metadata": {},
   "outputs": [],
   "source": [
    "# Load the GBIF data\n",
    "gbif_df = pd.read_csv(\n",
    "    gbif_path, \n",
    "    delimiter='\\t',\n",
    "    index_col='gbifID',\n",
    "    #usecols=[]\n",
    ")\n",
    "gbif_df.info()"
   ]
  },
  {
   "cell_type": "code",
   "execution_count": null,
   "metadata": {},
   "outputs": [],
   "source": [
    "# Load the GBIF data\n",
    "bobcat_gbif_df = pd.read_csv(\n",
    "    gbif_path, \n",
    "    delimiter='\\t',\n",
    "    index_col='gbifID',\n",
    "    usecols=['gbifID', 'month', 'decimalLatitude', 'decimalLongitude']\n",
    ")\n",
    "bobcat_gbif_df.head()"
   ]
  },
  {
   "cell_type": "markdown",
   "metadata": {},
   "source": [
    "### Import geopandas to use in  next cell"
   ]
  },
  {
   "cell_type": "code",
   "execution_count": 15,
   "metadata": {},
   "outputs": [],
   "source": [
    "import geopandas as gpd"
   ]
  },
  {
   "cell_type": "markdown",
   "metadata": {},
   "source": [
    "### Download and save ecoregion boundaries\n",
    "\n",
    "The ecoregion boundaries take some time to download – they come in at\n",
    "about 150MB. To use my time most efficiently, I need to complete **caching**\n",
    "the ecoregions data on the machine I'm working on so that I only\n",
    "have to download once. To do that, I'll also use **conditionals**, or \n",
    "code that adjusts what it does based on the situation.\n",
    "\n",
    "Get ecoregions boundaries\n",
    "1. Find the URL for for the ecoregion boundary\n",
    "<strong>Shapefile</strong>. I can <a\n",
    "href=\"https://www.geographyrealm.com/terrestrial-ecoregions-gis-data/\">get\n",
    "ecoregion boundaries from Google.</a>.\n",
    "2. Change all the variable names to <strong>descriptive</strong>\n",
    "variable names, making sure to correctly reference variables I created\n",
    "before.\n",
    "3. Run the cell to download and save the data."
   ]
  },
  {
   "cell_type": "code",
   "execution_count": 16,
   "metadata": {},
   "outputs": [],
   "source": [
    "# Set up the ecoregion boundary URL\n",
    "ecoregions_url = (\n",
    " \"https://storage.googleapis.com/teow2016\"\n",
    " \"/Ecoregions2017.zip\")\n",
    "\n",
    "# Set up a path to save the data on your machine\n",
    "ecoregions_dir = os.path.join(data_dir_bobcat, 'resolve_ecoregions')\n",
    "\n",
    "# Make the ecoregions directory\n",
    "os.makedirs(ecoregions_dir, exist_ok=True)\n",
    "\n",
    "# Join ecoregions shapefile path\n",
    "ecoregions_path = os.path.join(ecoregions_dir, 'ecoregions.shp')\n",
    "\n",
    "# Only download once\n",
    "if not os.path.exists(ecoregions_path):\n",
    "    ecoregions_gdf = gpd.read_file(ecoregions_url)\n",
    "    ecoregions_gdf.to_file(ecoregions_path)"
   ]
  },
  {
   "cell_type": "markdown",
   "metadata": {},
   "source": [
    "Make sure that worked! Use a **bash** command\n",
    "called `find` to look for all the files in my project directory with\n",
    "the `.shp` extension:"
   ]
  },
  {
   "cell_type": "code",
   "execution_count": null,
   "metadata": {},
   "outputs": [],
   "source": [
    "%%bash\n",
    "find ~/earth-analytics/data/species_distribution_bobcat -name '*.shp' "
   ]
  },
  {
   "cell_type": "markdown",
   "metadata": {},
   "source": [
    "### Load Ecoregions into Python\n",
    "\n",
    "Download and save ecoregion boundaries from the EPA:\n",
    "1. Make a quick plot with <code>.plot()</code> to make sure the\n",
    "download worked.\n",
    "2. Run the cell to load the data into Python"
   ]
  },
  {
   "cell_type": "code",
   "execution_count": null,
   "metadata": {},
   "outputs": [],
   "source": [
    "# Open up the ecoregions boundaries\n",
    "ecoregions_gdf = gpd.read_file(ecoregions_path)\n",
    "\n",
    "# Name the index so it will match the other data later on\n",
    "ecoregions_gdf.index.name = 'ecoregion'\n",
    "\n",
    "# Plot the ecoregions to check download\n",
    "ecoregions_gdf.plot(edgecolor='black', color='lightgreen')"
   ]
  },
  {
   "cell_type": "code",
   "execution_count": null,
   "metadata": {},
   "outputs": [],
   "source": [
    "ecoregions_gdf.head()"
   ]
  },
  {
   "cell_type": "markdown",
   "metadata": {},
   "source": [
    "### Convert the GBIF data to a GeoDataFrame\n",
    "\n",
    "To plot the GBIF data, I need to convert it to a `GeoDataFrame` first.\n",
    "This will make some special geospatial operations from `geopandas`\n",
    "available, such as spatial joins and plotting.\n",
    "\n",
    "1. Convert `DataFrame` to `GeoDataFrame`\n",
    "2. Run the code to get a <code>GeoDataFrame</code> of the GBIF\n",
    "data."
   ]
  },
  {
   "cell_type": "code",
   "execution_count": null,
   "metadata": {},
   "outputs": [],
   "source": [
    "#Convert dataframe (df) into geo dataframe (gdf)\n",
    "bobcat_gbif_gdf = (\n",
    "    gpd.GeoDataFrame(\n",
    "        bobcat_gbif_df, \n",
    "        geometry=gpd.points_from_xy(\n",
    "            bobcat_gbif_df.decimalLongitude, \n",
    "            bobcat_gbif_df.decimalLatitude), \n",
    "        crs=\"EPSG:4326\")\n",
    "    # Select the desired columns\n",
    "    [['month', 'geometry']]\n",
    ")\n",
    "bobcat_gbif_gdf"
   ]
  },
  {
   "cell_type": "markdown",
   "metadata": {},
   "source": [
    "### Store the new version of your dataframe for other notebooks as needed"
   ]
  },
  {
   "cell_type": "code",
   "execution_count": null,
   "metadata": {},
   "outputs": [],
   "source": [
    "%store ecoregions_gdf bobcat_gbif_gdf"
   ]
  },
  {
   "cell_type": "markdown",
   "metadata": {},
   "source": [
    "## Normalize Data\n",
    "\n"
   ]
  },
  {
   "cell_type": "markdown",
   "metadata": {},
   "source": [
    "### Identify the Ecoregion for Each Observation\n",
    "\n",
    "Combine the ecoregions and the observations **spatially** using\n",
    "a method called `.sjoin()`, which stands for spatial join.\n",
    "\n",
    "1. Perform a spatial join\n",
    "2. Identify the correct values for the <code>how=</code> and\n",
    "<code>predicate=</code> parameters of the spatial join.\n",
    "3. Select only the columns I will need for my plot.\n",
    "4. Run the code."
   ]
  },
  {
   "cell_type": "code",
   "execution_count": null,
   "metadata": {},
   "outputs": [],
   "source": [
    "gbif_ecoregion_gdf = (\n",
    "    ecoregions_gdf\n",
    "    # Match the CRS of the GBIF data and the ecoregions\n",
    "    .to_crs(bobcat_gbif_gdf.crs)\n",
    "    # Find ecoregion for each observation\n",
    "    .sjoin(\n",
    "        bobcat_gbif_gdf,\n",
    "        how='inner', \n",
    "        predicate='contains')\n",
    "    # Select the required columns\n",
    "    [['month','ECO_NAME','gbifID', 'OBJECTID']]\n",
    "\n",
    "    # rename columns as needed\n",
    "    .reset_index()\n",
    "    .rename(columns={\n",
    "       'ECO_NAME': 'name',\n",
    "       'gbifID': 'observation_id',\n",
    "       'OBJECTID': 'object_id'})\n",
    ")\n",
    "\n",
    "gbif_ecoregion_gdf"
   ]
  },
  {
   "cell_type": "markdown",
   "metadata": {},
   "source": [
    "### Count the Observations in Each Ecroregion Each Month\n",
    "\n",
    "Group observations by ecoregion\n",
    "\n",
    "1. Select only month/ecosystem combinations that have more than one\n",
    "occurrence recorded, since a single occurrence could be an error.\n",
    "2. Use the <code>.groupby()</code> and <code>.mean()</code> methods to\n",
    "compute the mean occurrences by ecoregion and by month.\n",
    "3. Run the code – it will normalize the number of occurrences by month\n",
    "and ecoregion"
   ]
  },
  {
   "cell_type": "code",
   "execution_count": null,
   "metadata": {},
   "outputs": [],
   "source": [
    "bobcat_occurrence_df = (\n",
    "    gbif_ecoregion_gdf\n",
    "    # For each ecoregion, for each month...\n",
    "    .groupby(['ecoregion', 'month'])\n",
    "    # ...count the number of occurrences\n",
    "    .agg(occurrences=('observation_id', 'count'))\n",
    ")\n",
    "\n",
    "# Get rid of rare observations (possible misidentification?)\n",
    "bobcat_occurrence_df = bobcat_occurrence_df[bobcat_occurrence_df.occurrences>1]\n",
    "\n",
    "bobcat_occurrence_df\n",
    "\n",
    "# Take the mean by ecoregion\n",
    "mean_occurrences_by_ecoregion = (\n",
    "     bobcat_occurrence_df\n",
    "     .groupby(['ecoregion'])\n",
    "     .mean()\n",
    " )\n",
    "# Take the mean by month\n",
    "mean_occurrences_by_month = (\n",
    "     bobcat_occurrence_df\n",
    "     .groupby(['month'])\n",
    "     .mean()\n",
    " )\n",
    "\n",
    "bobcat_occurrence_df"
   ]
  },
  {
   "cell_type": "code",
   "execution_count": null,
   "metadata": {},
   "outputs": [],
   "source": [
    "mean_occurrences_by_ecoregion"
   ]
  },
  {
   "cell_type": "code",
   "execution_count": null,
   "metadata": {},
   "outputs": [],
   "source": [
    "mean_occurrences_by_month"
   ]
  },
  {
   "cell_type": "markdown",
   "metadata": {},
   "source": [
    "### Normalize the Observations\n",
    "\n",
    "Divide occurrences by the mean occurrences by month AND the mean\n",
    "occurrences by ecoregion"
   ]
  },
  {
   "cell_type": "code",
   "execution_count": null,
   "metadata": {},
   "outputs": [],
   "source": [
    "# Normalize by space and time for sampling effort\n",
    "bobcat_occurrence_df['norm_occurrences'] = (\n",
    "    bobcat_occurrence_df \n",
    "    /mean_occurrences_by_month \n",
    "    /mean_occurrences_by_ecoregion\n",
    ")\n",
    "bobcat_occurrence_df"
   ]
  },
  {
   "cell_type": "markdown",
   "metadata": {},
   "source": [
    "### Store the new version of your dataframe for other notebooks as needed"
   ]
  },
  {
   "cell_type": "code",
   "execution_count": null,
   "metadata": {},
   "outputs": [],
   "source": [
    "%store bobcat_occurrence_df"
   ]
  },
  {
   "cell_type": "markdown",
   "metadata": {},
   "source": [
    "## Plot Data"
   ]
  },
  {
   "cell_type": "markdown",
   "metadata": {},
   "source": [
    "### Import Packages Needed\n",
    "\n",
    "Import packages for making interactive maps with vector data as well as\n",
    "calendar in order to get month names that will be used when creating the]plot."
   ]
  },
  {
   "cell_type": "code",
   "execution_count": null,
   "metadata": {},
   "outputs": [],
   "source": [
    "# Get month names\n",
    "import calendar\n",
    "\n",
    "# Libraries for Dynamic mapping\n",
    "import cartopy\n",
    "import cartopy.feature as cf\n",
    "import cartopy.crs as ccrs\n",
    "import geopandas as gpd\n",
    "import geoviews as gv\n",
    "import geoviews.feature as gf\n",
    "import holoviews as hv\n",
    "import hvplot.pandas\n",
    "import panel as pn"
   ]
  },
  {
   "cell_type": "markdown",
   "metadata": {},
   "source": [
    "### Create a Simplified GeoDataFrame for Plotting\n",
    "\n",
    "The code below will\n",
    "streamline plotting with `hvplot` by simplifying the geometry,\n",
    "projecting it to a Mercator projection that is compatible with\n",
    "`geoviews`, and cropping off areas in the Arctic.\n",
    "\n",
    "Download and save ecoregion boundaries from the EPA:</p>\n",
    "<ol type=\"1\">\n",
    "<li>Simplify the ecoregions with <code>.simplify(.05)</code>, and save\n",
    "it back to the <code>geometry</code> column.</li>\n",
    "<li>Change the Coordinate Reference System (CRS) to Mercator with\n",
    "<code>.to_crs(ccrs.Mercator())</code></li>\n",
    "<li>Use the plotting code that is already in the cell to check that the\n",
    "plotting runs quickly (less than a minute) and looks the way you want.</li>\n",
    "</ol></div></div>"
   ]
  },
  {
   "cell_type": "code",
   "execution_count": null,
   "metadata": {},
   "outputs": [],
   "source": [
    "# Simplify the geometry to speed up processing\n",
    "ecoregions_gdf.geometry = ecoregions_gdf.simplify(\n",
    "    .01, preserve_topology=False\n",
    "    )\n",
    "\n",
    "# Change the CRS to Mercator for mapping\n",
    "ecoregions_gdf = ecoregions_gdf.to_crs(ccrs.Mercator())\n",
    "\n",
    "# Check that the plot runs in a reasonable amount of time\n",
    "ecoregions_gdf.hvplot(\n",
    "    x='Longitude',\n",
    "    y='Latitude',\n",
    "    geo=True, \n",
    "    crs=ccrs.Mercator()\n",
    "    )"
   ]
  },
  {
   "cell_type": "markdown",
   "metadata": {},
   "source": [
    "### Map Migration Over Time\n",
    "\n",
    "\n",
    "1. If applicable, replace any variable names with the names I defined\n",
    "previously.\n",
    "2. Customize my plot with my choice of title, tile source, color\n",
    "map, and size.\n",
    "\n",
    "<div data-__quarto_custom=\"true\" data-__quarto_custom_type=\"Callout\"\n",
    "data-__quarto_custom_context=\"Block\" data-__quarto_custom_id=\"3\">\n",
    "<div data-__quarto_custom_scaffold=\"true\">\n",
    "\n",
    "</div>\n",
    "<div data-__quarto_custom_scaffold=\"true\">\n",
    "<p>My plot will probably still change months very slowly in my\n",
    "Jupyter notebook, because it calculates each month’s plot as needed.\n",
    "Open up the saved HTML file to see faster performance!</p>\n",
    "</div>\n"
   ]
  },
  {
   "cell_type": "code",
   "execution_count": null,
   "metadata": {},
   "outputs": [],
   "source": [
    "# Join the occurrences with the plotting GeoDataFrame\n",
    "bobcat_occurrence_gdf = ecoregions_gdf.join(bobcat_occurrence_df)\n",
    "\n",
    "# Get the plot bounds so they don't change with the slider\n",
    "xmin, ymin, xmax, ymax = bobcat_occurrence_gdf.total_bounds\n",
    "\n",
    "# Define the slider widget\n",
    "slider = pn.widgets.DiscreteSlider(\n",
    "    name='month', \n",
    "    options={calendar.month_name[i]: i for i in range(1, 13)}\n",
    ")\n",
    "\n",
    "# Plot occurrence by ecoregion and month\n",
    "bobcat_migration_plot = (\n",
    "    bobcat_occurrence_gdf\n",
    "    .hvplot(\n",
    "        c='norm_occurrences',\n",
    "        groupby='month',\n",
    "        # Use background tiles\n",
    "        geo=True, crs=ccrs.Mercator(), tiles='CartoLight',\n",
    "        title=\"Bobcat Migration Observations Over Time\",\n",
    "        x='Longitude',\n",
    "        y='Latitude',\n",
    "        xlim=(xmin, xmax), ylim=(ymin, ymax),\n",
    "        frame_height=600,\n",
    "        width=600,\n",
    "        height=600,\n",
    "        widgets={'month': slider},\n",
    "        widget_location='bottom'\n",
    "    )\n",
    ")\n",
    "\n",
    "# Save the plot\n",
    "bobcat_migration_plot.save('bobcat_migration.html', embed=True)\n",
    "\n",
    "# Show the plot\n",
    "bobcat_migration_plot"
   ]
  },
  {
   "cell_type": "markdown",
   "metadata": {},
   "source": [
    "## Bobcat Migration Overtime Plot- While this species does move around, they are not migratory. The map reflects the ecoregions they habitate as well as the time of year they would be more active. \n",
    "\n",
    "\n",
    "<embed type=\"text/html\" src=\"bobcat_migration.html\",\n",
    "width=\"900\" height=\"900\">\n",
    "\n",
    "\n",
    "The Bobcat Migration Overtime shows a predominance in the U.S. thoughout\n",
    "most of the year and fewer occurences in Canada and Mexico. There is not \n",
    "a striaght forward migration pattern that may be seen in other species\n",
    "that may 'fly south for the winter' leading to what I have now read in multiple\n",
    "places is that - bobcats are not migratory. This was not something I researched\n",
    "prior to delving into the data, but after seeing the plot makes sense. \n",
    "The plot also confirms some of the other species information.\n",
    "\n",
    "June through August tends to have fewer norm occurences in general compared to\n",
    "the fall and winter months (for the Northern Hemisphere) which have higher\n",
    "norm occurences. This speaks to the fact that bobcats don't hibernate and \n",
    "winter is their mating season, so they would be more likely to be spotted\n",
    "by a human while looking for a mate. Bobcats are also found around areas\n",
    "often frequented for skiing/snowboarding and snowshoeing. \n",
    "\n",
    "The lack of a straight forward migration pattern speaks to the nature of\n",
    "bobcats, like the much smaller domestic housecat, are territorial animals.\n",
    "They tend to occupy the same milage over time, marking it, and only move\n",
    "under extreme conditions or habitat loss. Because they live in different\n",
    "types of forests, coastal swamps, and scrubland, they would be threatend\n",
    "by wildfire and drought. There have been an increase in wildfires in recent\n",
    "years in the Sierra Nevadas, the Rocky Mountains, and possibly other forest\n",
    "areas which would threaten or cause them to relocate.\n",
    "\n",
    "\n",
    "The plot more so speaks to the nature of bobcats and how the data was collected\n",
    "than it speaks to a distinct migration pattern.\n",
    "\n",
    "Discussion and conclusion ideally link back to the earlier text for context\n",
    "(the species description, data, and methods stuff from up top) and interpret\n",
    "the plot as well"
   ]
  }
 ],
 "metadata": {
  "kernelspec": {
   "display_name": "base",
   "language": "python",
   "name": "python3"
  },
  "language_info": {
   "codemirror_mode": {
    "name": "ipython",
    "version": 3
   },
   "file_extension": ".py",
   "mimetype": "text/x-python",
   "name": "python",
   "nbconvert_exporter": "python",
   "pygments_lexer": "ipython3",
   "version": "3.11.6"
  }
 },
 "nbformat": 4,
 "nbformat_minor": 2
}
