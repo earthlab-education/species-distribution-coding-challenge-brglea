{
 "cells": [
  {
   "cell_type": "markdown",
   "metadata": {},
   "source": [
    "# Bobcat Migration\n",
    "\n",
    "## Species Description\n",
    "\n",
    "\n",
    "Bobcats are part of the larger genus of Lynx which there are 4 extant species\n",
    "of, one of which is the bobcat.\n",
    "\n",
    "I chose the bobcat *'lynx rufus'* to look at their migration because I \n",
    "have a sister who works at the Sonoma County Wildlife Rescue in \n",
    "California. She does the [rescue and release](https://scwildliferescue.org/rescue-rehab-release) \n",
    "part of the porgram and they frequently rescue bobcats, or get in baby \n",
    "bobcats that were abandoned in some way that they care for until they \n",
    "are old enough to be released. I however, am in Colorado and I have seen\n",
    "bobcats in the wilderness. This made me curious about their overall migration.\n",
    "\n",
    "This species's migration ranges between Mexico and Canada, with the \n",
    "majority of the bobcats being found in the U.S. They are not a threatened\n",
    "species but do suffer from habitat loss. If you are insterested in learning\n",
    "more about bobcats please visit [The Smithsonian's National Zoo & \n",
    "Conservation Biology Institute](https://nationalzoo.si.edu/animals/bobcat).\n",
    "\n",
    "\n",
    ".... finish after I find the actual conclusions\n",
    "\n",
    "## Data Description\n",
    "with citations - \n",
    "\n",
    "cover ecoregion data\n",
    "Ecoregion Citation: \n",
    "\n",
    "cover gbif occurences \n",
    "GBIF Citation: GBIF.org (12 October 2024) GBIF Occurrence Download\n",
    "https://doi.org/10.15468/dl.sye4x3\n",
    "\n",
    "Explain how I filtered the data and how the data was collected\n",
    "\n",
    "## Methods Description\n",
    "\n",
    "this is about the normalization - why is it necessary, how did you do it\n",
    "I normalizaed by ecoregion samples, by month samples, and by area. \n",
    "This way the normalization is over space and time.\n",
    "\n",
    "#<embed type=\"text/html\" src=\"bobcat_migration.html\",\n",
    "width=\"900\" height=\"900\">\n"
   ]
  },
  {
   "cell_type": "markdown",
   "metadata": {},
   "source": [
    "## Plot headline\n",
    "Plot description\n",
    "Discussion and conclusion ideally link back to the earlier text for context\n",
    "(the species description, data, and methods stuff from up top) and interpret\n",
    "the plot as well"
   ]
  }
 ],
 "metadata": {
  "language_info": {
   "name": "python"
  }
 },
 "nbformat": 4,
 "nbformat_minor": 2
}
